{
 "cells": [
  {
   "cell_type": "code",
   "execution_count": 19,
   "metadata": {},
   "outputs": [],
   "source": [
    "import pandas as pd"
   ]
  },
  {
   "cell_type": "code",
   "execution_count": 20,
   "metadata": {},
   "outputs": [],
   "source": [
    "df = pd.read_csv(\"data/employees.csv\")\n",
    "bd_date_split = df[\"birth_date\"].str.split(\"/\", n=2, expand= True)\n",
    "bd_date_split.head()\n",
    "df[\"birth_date\"] = pd.to_datetime(df[\"birth_date\"])\n",
    "df[\"hire_date\"] = pd.to_datetime(df[\"hire_date\"])\n"
   ]
  },
  {
   "cell_type": "code",
   "execution_count": 21,
   "metadata": {},
   "outputs": [],
   "source": [
    "df.head()\n",
    "df.to_csv('data/employee_v1.csv', encoding='utf-8',index=False)"
   ]
  }
 ],
 "metadata": {
  "kernelspec": {
   "display_name": "PythonData",
   "language": "python",
   "name": "python3"
  },
  "language_info": {
   "codemirror_mode": {
    "name": "ipython",
    "version": 3
   },
   "file_extension": ".py",
   "mimetype": "text/x-python",
   "name": "python",
   "nbconvert_exporter": "python",
   "pygments_lexer": "ipython3",
   "version": "3.7.7"
  },
  "orig_nbformat": 4,
  "vscode": {
   "interpreter": {
    "hash": "bbe982b4feeed3e353c0d5d2a5ea84176fef71ae257c0fd584a3344e41ce0c0b"
   }
  }
 },
 "nbformat": 4,
 "nbformat_minor": 2
}
